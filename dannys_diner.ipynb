{
 "cells": [
  {
   "cell_type": "markdown",
   "id": "71856cf6",
   "metadata": {},
   "source": [
    "# Danny's Diner Case Study\n",
    "#### Avery Lee \n",
    "\n",
    "8 Week SQL Challenge #1: https://8weeksqlchallenge.com/case-study-1/\n",
    "\n",
    "![Intro Image](images/intro_image.png)"
   ]
  },
  {
   "cell_type": "markdown",
   "id": "8d6da4ac",
   "metadata": {},
   "source": [
    "## Table of Contents \n",
    "- Problem Statement\n",
    "- The Datasets\n",
    "    - `sales` table\n",
    "    - `members` table\n",
    "    - `menu` table\n",
    "- Case Study Questions\n",
    "    - 1. What is the total amount each customer spent at the restaurant?\n",
    "    - 2. How many days has each customer visited the restaurant?\n",
    "    - 3. What was the first item from the menu purchased by each customer?\n",
    "    - 4. What is the most purchased item on the menu and how many times was it purchased by all customers?\n",
    "    - 5. Which item was the most popular for each customer?\n",
    "    - 6. Which item was purchased first by the customer after they became a member?\n",
    "    - 7. Which item was purchased just before the customer became a member?\n",
    "    - 8. What is the total items and amount spent for each member before they became a member?\n",
    "    - 9. If each $1 spent equates to 10 points and sushi has a 2x points multiplier - how many points would each customer have?\n",
    "    - 10. In the first week after a customer joins the program (including their join date) they earn 2x points on all items, not just sushi - how many points do customer A and B have at the end of January?\n",
    "- Bonus Tasks\n",
    "    - 1. Create a table that contains `customer_id`, `order_date`, `product_name`, `price`, and `member` which indicates 'Y' if a customer is a member on that date and 'N' if they are not.\n",
    "    - 2. Using the saved table above, also add `ranking` which indicates the order of each item for a customer after they have joined the loyalty program."
   ]
  },
  {
   "cell_type": "markdown",
   "id": "ec020bb8",
   "metadata": {},
   "source": [
    "## Problem Statement \n",
    "Danny opens up a restaurant that sells his 3 favourite foods: sushi, curry, and ramen. He wants to use the data to answer a few simple questions about his customers, including their visitng patterns, how much money they have spent, and which menu items are their favorite. He plans on using these insights to help him decide whether he should expand the existing customer loyalty program - additionally he needs help to generate some basic datasets so his team can easily inspect the data without needing to use SQL.\n",
    "\n",
    "We will answer the following questions: \n",
    "\n",
    "1. What is the total amount each customer spent at the restaurant?\n",
    "2. How many days has each customer visited the restaurant?\n",
    "3. What was the first item from the menu purchased by each customer?\n",
    "4. What is the most purchased item on the menu and how many times was it purchased by all customers?\n",
    "5. Which item was the most popular for each customer?\n",
    "6. Which item was purchased first by the customer after they became a member?\n",
    "7. Which item was purchased just before the customer became a member?\n",
    "8. What is the total items and amount spent for each member before they became a member?\n",
    "9. If each $1 spent equates to 10 points and sushi has a 2x points multiplier - how many points would each customer have?\n",
    "10. In the first week after a customer joins the program (including their join date) they earn 2x points on all items, not just sushi - how many points do customer A and B have at the end of January?\n",
    "\n",
    "Bonus task: Create tables that will be useful for Danny to quickly derive insights. "
   ]
  },
  {
   "cell_type": "markdown",
   "id": "2a7ffe9e",
   "metadata": {},
   "source": [
    "## The Datasets"
   ]
  },
  {
   "cell_type": "code",
   "execution_count": 2,
   "id": "348dcfd1",
   "metadata": {},
   "outputs": [],
   "source": [
    "# Load the SQL extension\n",
    "%load_ext sql\n",
    "\n",
    "# Connect\n",
    "%sql sqlite:////Users/averylee/Desktop/DS/SQL/dannys_diner/dannys_diner.db"
   ]
  },
  {
   "cell_type": "markdown",
   "id": "01df325c",
   "metadata": {},
   "source": [
    "This is the entity relationship diagram provided by the case study. The `customer_id` and `product_id` from the `sales` table respectively correspond to the same in the `members` and `menu` tables. \n",
    "\n",
    "![ERD Image](images/entity_relationship_diagram.png)"
   ]
  },
  {
   "cell_type": "markdown",
   "id": "ae613787",
   "metadata": {},
   "source": [
    "#### `sales` Table \n",
    "\n",
    "This table consists of multiple customers and their unique `customer_id`, `order_date`, and the item they ordered which is represented by the `product_id`."
   ]
  },
  {
   "cell_type": "code",
   "execution_count": 3,
   "id": "5fd33a1a",
   "metadata": {},
   "outputs": [
    {
     "name": "stdout",
     "output_type": "stream",
     "text": [
      " * sqlite:////Users/averylee/Desktop/DS/SQL/dannys_diner/dannys_diner.db\n",
      "Done.\n"
     ]
    },
    {
     "data": {
      "text/html": [
       "<table>\n",
       "    <thead>\n",
       "        <tr>\n",
       "            <th>customer_id</th>\n",
       "            <th>order_date</th>\n",
       "            <th>product_id</th>\n",
       "        </tr>\n",
       "    </thead>\n",
       "    <tbody>\n",
       "        <tr>\n",
       "            <td>A</td>\n",
       "            <td>2021-01-01</td>\n",
       "            <td>1</td>\n",
       "        </tr>\n",
       "        <tr>\n",
       "            <td>A</td>\n",
       "            <td>2021-01-01</td>\n",
       "            <td>2</td>\n",
       "        </tr>\n",
       "        <tr>\n",
       "            <td>A</td>\n",
       "            <td>2021-01-07</td>\n",
       "            <td>2</td>\n",
       "        </tr>\n",
       "        <tr>\n",
       "            <td>A</td>\n",
       "            <td>2021-01-10</td>\n",
       "            <td>3</td>\n",
       "        </tr>\n",
       "        <tr>\n",
       "            <td>A</td>\n",
       "            <td>2021-01-11</td>\n",
       "            <td>3</td>\n",
       "        </tr>\n",
       "        <tr>\n",
       "            <td>A</td>\n",
       "            <td>2021-01-11</td>\n",
       "            <td>3</td>\n",
       "        </tr>\n",
       "        <tr>\n",
       "            <td>B</td>\n",
       "            <td>2021-01-01</td>\n",
       "            <td>2</td>\n",
       "        </tr>\n",
       "        <tr>\n",
       "            <td>B</td>\n",
       "            <td>2021-01-02</td>\n",
       "            <td>2</td>\n",
       "        </tr>\n",
       "        <tr>\n",
       "            <td>B</td>\n",
       "            <td>2021-01-04</td>\n",
       "            <td>1</td>\n",
       "        </tr>\n",
       "        <tr>\n",
       "            <td>B</td>\n",
       "            <td>2021-01-11</td>\n",
       "            <td>1</td>\n",
       "        </tr>\n",
       "        <tr>\n",
       "            <td>B</td>\n",
       "            <td>2021-01-16</td>\n",
       "            <td>3</td>\n",
       "        </tr>\n",
       "        <tr>\n",
       "            <td>B</td>\n",
       "            <td>2021-02-01</td>\n",
       "            <td>3</td>\n",
       "        </tr>\n",
       "        <tr>\n",
       "            <td>C</td>\n",
       "            <td>2021-01-01</td>\n",
       "            <td>3</td>\n",
       "        </tr>\n",
       "        <tr>\n",
       "            <td>C</td>\n",
       "            <td>2021-01-01</td>\n",
       "            <td>3</td>\n",
       "        </tr>\n",
       "        <tr>\n",
       "            <td>C</td>\n",
       "            <td>2021-01-07</td>\n",
       "            <td>3</td>\n",
       "        </tr>\n",
       "    </tbody>\n",
       "</table>"
      ],
      "text/plain": [
       "[('A', '2021-01-01', 1),\n",
       " ('A', '2021-01-01', 2),\n",
       " ('A', '2021-01-07', 2),\n",
       " ('A', '2021-01-10', 3),\n",
       " ('A', '2021-01-11', 3),\n",
       " ('A', '2021-01-11', 3),\n",
       " ('B', '2021-01-01', 2),\n",
       " ('B', '2021-01-02', 2),\n",
       " ('B', '2021-01-04', 1),\n",
       " ('B', '2021-01-11', 1),\n",
       " ('B', '2021-01-16', 3),\n",
       " ('B', '2021-02-01', 3),\n",
       " ('C', '2021-01-01', 3),\n",
       " ('C', '2021-01-01', 3),\n",
       " ('C', '2021-01-07', 3)]"
      ]
     },
     "execution_count": 3,
     "metadata": {},
     "output_type": "execute_result"
    }
   ],
   "source": [
    "%%sql\n",
    "SELECT * FROM sales"
   ]
  },
  {
   "cell_type": "markdown",
   "id": "156df978",
   "metadata": {},
   "source": [
    "#### `members` Table \n",
    "\n",
    "This table contains the `join_date` a `customer_id` joined the beta version of Danny's loyalty program. "
   ]
  },
  {
   "cell_type": "code",
   "execution_count": 4,
   "id": "8e8a52cd",
   "metadata": {},
   "outputs": [
    {
     "name": "stdout",
     "output_type": "stream",
     "text": [
      " * sqlite:////Users/averylee/Desktop/DS/SQL/dannys_diner/dannys_diner.db\n",
      "Done.\n"
     ]
    },
    {
     "data": {
      "text/html": [
       "<table>\n",
       "    <thead>\n",
       "        <tr>\n",
       "            <th>customer_id</th>\n",
       "            <th>join_date</th>\n",
       "        </tr>\n",
       "    </thead>\n",
       "    <tbody>\n",
       "        <tr>\n",
       "            <td>A</td>\n",
       "            <td>2021-01-07</td>\n",
       "        </tr>\n",
       "        <tr>\n",
       "            <td>B</td>\n",
       "            <td>2021-01-09</td>\n",
       "        </tr>\n",
       "    </tbody>\n",
       "</table>"
      ],
      "text/plain": [
       "[('A', '2021-01-07'), ('B', '2021-01-09')]"
      ]
     },
     "execution_count": 4,
     "metadata": {},
     "output_type": "execute_result"
    }
   ],
   "source": [
    "%%sql\n",
    "SELECT * FROM members"
   ]
  },
  {
   "cell_type": "markdown",
   "id": "6bf88273",
   "metadata": {},
   "source": [
    "#### `menu` Table\n",
    "\n",
    "This table contains the `product_name` and `price` for each `product_id`."
   ]
  },
  {
   "cell_type": "code",
   "execution_count": 5,
   "id": "1a7f5c37",
   "metadata": {},
   "outputs": [
    {
     "name": "stdout",
     "output_type": "stream",
     "text": [
      " * sqlite:////Users/averylee/Desktop/DS/SQL/dannys_diner/dannys_diner.db\n",
      "Done.\n"
     ]
    },
    {
     "data": {
      "text/html": [
       "<table>\n",
       "    <thead>\n",
       "        <tr>\n",
       "            <th>product_id</th>\n",
       "            <th>product_name</th>\n",
       "            <th>price</th>\n",
       "        </tr>\n",
       "    </thead>\n",
       "    <tbody>\n",
       "        <tr>\n",
       "            <td>1</td>\n",
       "            <td>sushi</td>\n",
       "            <td>10</td>\n",
       "        </tr>\n",
       "        <tr>\n",
       "            <td>2</td>\n",
       "            <td>curry</td>\n",
       "            <td>15</td>\n",
       "        </tr>\n",
       "        <tr>\n",
       "            <td>3</td>\n",
       "            <td>ramen</td>\n",
       "            <td>12</td>\n",
       "        </tr>\n",
       "    </tbody>\n",
       "</table>"
      ],
      "text/plain": [
       "[(1, 'sushi', 10), (2, 'curry', 15), (3, 'ramen', 12)]"
      ]
     },
     "execution_count": 5,
     "metadata": {},
     "output_type": "execute_result"
    }
   ],
   "source": [
    "%%sql\n",
    "SELECT * FROM menu"
   ]
  },
  {
   "cell_type": "markdown",
   "id": "23885add",
   "metadata": {},
   "source": [
    "## Case Study Questions "
   ]
  },
  {
   "cell_type": "markdown",
   "id": "144da61a",
   "metadata": {},
   "source": [
    "<a id=\"question-1\"></a>\n",
    "#### 1. What is the total amount each customer spent at the restaurant?\n",
    "\n",
    "Steps: \n",
    "- JOIN the `sales` and `menu` tables using the `product_id` column to get the corresponding price for each menu item the customer purchased. \n",
    "- SUM up the `price` each customer puchased. \n",
    "- ORDER BY the `customer_id` for a clean output. \n",
    "\n",
    "Results: \n",
    "- Customer A spent $76. \n",
    "- Customer B spent $74. \n",
    "- Customer C spent $36. "
   ]
  },
  {
   "cell_type": "code",
   "execution_count": 6,
   "id": "68c8fc74",
   "metadata": {},
   "outputs": [
    {
     "name": "stdout",
     "output_type": "stream",
     "text": [
      " * sqlite:////Users/averylee/Desktop/DS/SQL/dannys_diner/dannys_diner.db\n",
      "Done.\n"
     ]
    },
    {
     "data": {
      "text/html": [
       "<table>\n",
       "    <thead>\n",
       "        <tr>\n",
       "            <th>customer_id</th>\n",
       "            <th>price</th>\n",
       "        </tr>\n",
       "    </thead>\n",
       "    <tbody>\n",
       "        <tr>\n",
       "            <td>A</td>\n",
       "            <td>76</td>\n",
       "        </tr>\n",
       "        <tr>\n",
       "            <td>B</td>\n",
       "            <td>74</td>\n",
       "        </tr>\n",
       "        <tr>\n",
       "            <td>C</td>\n",
       "            <td>36</td>\n",
       "        </tr>\n",
       "    </tbody>\n",
       "</table>"
      ],
      "text/plain": [
       "[('A', 76), ('B', 74), ('C', 36)]"
      ]
     },
     "execution_count": 6,
     "metadata": {},
     "output_type": "execute_result"
    }
   ],
   "source": [
    "%%sql \n",
    "\n",
    "select s.customer_id, sum(m.price) as price\n",
    "from sales s join menu m on s.product_id = m.product_id\n",
    "group by s.customer_id\n",
    "order by s.customer_id"
   ]
  },
  {
   "cell_type": "markdown",
   "id": "321521b3",
   "metadata": {},
   "source": [
    "<a id=\"question-2\"></a>\n",
    "#### 2. How many days has each customer visited the restaurant?\n",
    "\n",
    "Steps: \n",
    "- COUNT the DISTINCT number of `order_date`s each `customer_id` visited the restaurant. \n",
    "- ORDER BY the `customer_id` for a clean output. \n",
    "\n",
    "Results: \n",
    "- Customer A visited 4 times. \n",
    "- Customer B visited 6 times. \n",
    "- Customer C visited 2 times. "
   ]
  },
  {
   "cell_type": "code",
   "execution_count": 7,
   "id": "ecf84e06",
   "metadata": {},
   "outputs": [
    {
     "name": "stdout",
     "output_type": "stream",
     "text": [
      " * sqlite:////Users/averylee/Desktop/DS/SQL/dannys_diner/dannys_diner.db\n",
      "Done.\n"
     ]
    },
    {
     "data": {
      "text/html": [
       "<table>\n",
       "    <thead>\n",
       "        <tr>\n",
       "            <th>customer_id</th>\n",
       "            <th>visited_count</th>\n",
       "        </tr>\n",
       "    </thead>\n",
       "    <tbody>\n",
       "        <tr>\n",
       "            <td>A</td>\n",
       "            <td>4</td>\n",
       "        </tr>\n",
       "        <tr>\n",
       "            <td>B</td>\n",
       "            <td>6</td>\n",
       "        </tr>\n",
       "        <tr>\n",
       "            <td>C</td>\n",
       "            <td>2</td>\n",
       "        </tr>\n",
       "    </tbody>\n",
       "</table>"
      ],
      "text/plain": [
       "[('A', 4), ('B', 6), ('C', 2)]"
      ]
     },
     "execution_count": 7,
     "metadata": {},
     "output_type": "execute_result"
    }
   ],
   "source": [
    "%%sql \n",
    "\n",
    "select customer_id, count(distinct order_date) as visited_count\n",
    "from sales \n",
    "group by customer_id\n",
    "order by customer_id"
   ]
  },
  {
   "cell_type": "markdown",
   "id": "6b35adea",
   "metadata": {},
   "source": [
    "<a id=\"question-3\"></a>\n",
    "#### 3. What was the first item from the menu purchased by each customer?\n",
    "\n",
    "Steps: \n",
    "- Rank the order each item was purchased for each customer. Use `DENSE_RANK` so that multiple orders are ranked the same if they were purchased on the same day by that customer. \n",
    "- Get only the DISTINCT menu items that were ordered on the first day that customer visited the restaurant. \n",
    "\n",
    "Results: \n",
    "- Customer A ordered both sushi and curry during their first visit. \n",
    "- Customer B ordered curry during their first visit. \n",
    "- Customer C ordered ramen during their first visit. "
   ]
  },
  {
   "cell_type": "code",
   "execution_count": 8,
   "id": "8bc910ac",
   "metadata": {},
   "outputs": [
    {
     "name": "stdout",
     "output_type": "stream",
     "text": [
      " * sqlite:////Users/averylee/Desktop/DS/SQL/dannys_diner/dannys_diner.db\n",
      "Done.\n"
     ]
    },
    {
     "data": {
      "text/html": [
       "<table>\n",
       "    <thead>\n",
       "        <tr>\n",
       "            <th>customer_id</th>\n",
       "            <th>order_date</th>\n",
       "            <th>product_name</th>\n",
       "        </tr>\n",
       "    </thead>\n",
       "    <tbody>\n",
       "        <tr>\n",
       "            <td>A</td>\n",
       "            <td>2021-01-01</td>\n",
       "            <td>sushi</td>\n",
       "        </tr>\n",
       "        <tr>\n",
       "            <td>A</td>\n",
       "            <td>2021-01-01</td>\n",
       "            <td>curry</td>\n",
       "        </tr>\n",
       "        <tr>\n",
       "            <td>B</td>\n",
       "            <td>2021-01-01</td>\n",
       "            <td>curry</td>\n",
       "        </tr>\n",
       "        <tr>\n",
       "            <td>C</td>\n",
       "            <td>2021-01-01</td>\n",
       "            <td>ramen</td>\n",
       "        </tr>\n",
       "    </tbody>\n",
       "</table>"
      ],
      "text/plain": [
       "[('A', '2021-01-01', 'sushi'),\n",
       " ('A', '2021-01-01', 'curry'),\n",
       " ('B', '2021-01-01', 'curry'),\n",
       " ('C', '2021-01-01', 'ramen')]"
      ]
     },
     "execution_count": 8,
     "metadata": {},
     "output_type": "execute_result"
    }
   ],
   "source": [
    "%%sql \n",
    "\n",
    "with first_orders as (\n",
    "    select \n",
    "        s.customer_id, \n",
    "        s.order_date, \n",
    "        m.product_name, \n",
    "        dense_rank() over (\n",
    "            partition by s.customer_id \n",
    "            order by s.order_date\n",
    "        ) as rank \n",
    "    from sales s join menu m on s.product_id = m.product_id\n",
    ")\n",
    "\n",
    "select distinct customer_id, order_date, product_name\n",
    "from first_orders \n",
    "where rank = 1"
   ]
  },
  {
   "cell_type": "markdown",
   "id": "8f95caba",
   "metadata": {},
   "source": [
    "<a id=\"question-4\"></a>\n",
    "#### 4. What is the most purchased item on the menu and how many times was it purchased by all customers?\n",
    "\n",
    "Steps: \n",
    "- COUNT the number of times each menu item was purchased. \n",
    "- ORDER BY each count in descending order to get the most purchased item at the top. \n",
    "\n",
    "Results: \n",
    "- The ramen was the most purchased item with a total of 8 orders. Curry and sushi come next respectively with a count of 4 and 3 orders. "
   ]
  },
  {
   "cell_type": "code",
   "execution_count": 9,
   "id": "461d5107",
   "metadata": {},
   "outputs": [
    {
     "name": "stdout",
     "output_type": "stream",
     "text": [
      " * sqlite:////Users/averylee/Desktop/DS/SQL/dannys_diner/dannys_diner.db\n",
      "Done.\n"
     ]
    },
    {
     "data": {
      "text/html": [
       "<table>\n",
       "    <thead>\n",
       "        <tr>\n",
       "            <th>product_name</th>\n",
       "            <th>count</th>\n",
       "        </tr>\n",
       "    </thead>\n",
       "    <tbody>\n",
       "        <tr>\n",
       "            <td>ramen</td>\n",
       "            <td>8</td>\n",
       "        </tr>\n",
       "        <tr>\n",
       "            <td>curry</td>\n",
       "            <td>4</td>\n",
       "        </tr>\n",
       "        <tr>\n",
       "            <td>sushi</td>\n",
       "            <td>3</td>\n",
       "        </tr>\n",
       "    </tbody>\n",
       "</table>"
      ],
      "text/plain": [
       "[('ramen', 8), ('curry', 4), ('sushi', 3)]"
      ]
     },
     "execution_count": 9,
     "metadata": {},
     "output_type": "execute_result"
    }
   ],
   "source": [
    "%%sql \n",
    "\n",
    "select m.product_name, count(m.product_name) as count\n",
    "from sales s join menu m on s.product_id = m.product_id\n",
    "group by m.product_name\n",
    "order by count desc"
   ]
  },
  {
   "cell_type": "markdown",
   "id": "76109131",
   "metadata": {},
   "source": [
    "<a id=\"question-5\"></a>\n",
    "#### 5. Which item was the most popular for each customer?\n",
    "\n",
    "Steps: \n",
    "- For each customer, COUNT the number of times they purchased each item. \n",
    "- DENSE_RANK this count in descending order. This means the most ordered item will be 1st, and the least ordered item will be last. \n",
    "- Get the items that were ordered most for each customer. \n",
    "\n",
    "Results: \n",
    "- Customer A ordered ramen the most number of times, with a total of 3 orders. \n",
    "- Customer B ordered sushi, ramen, and curry the same number of times, each being 2. \n",
    "- Customer C ordered ramen the most number of times, with a total of 3 orders. "
   ]
  },
  {
   "cell_type": "code",
   "execution_count": 10,
   "id": "e84453c2",
   "metadata": {},
   "outputs": [
    {
     "name": "stdout",
     "output_type": "stream",
     "text": [
      " * sqlite:////Users/averylee/Desktop/DS/SQL/dannys_diner/dannys_diner.db\n",
      "Done.\n"
     ]
    },
    {
     "data": {
      "text/html": [
       "<table>\n",
       "    <thead>\n",
       "        <tr>\n",
       "            <th>customer_id</th>\n",
       "            <th>product_name</th>\n",
       "            <th>count</th>\n",
       "        </tr>\n",
       "    </thead>\n",
       "    <tbody>\n",
       "        <tr>\n",
       "            <td>A</td>\n",
       "            <td>ramen</td>\n",
       "            <td>3</td>\n",
       "        </tr>\n",
       "        <tr>\n",
       "            <td>B</td>\n",
       "            <td>sushi</td>\n",
       "            <td>2</td>\n",
       "        </tr>\n",
       "        <tr>\n",
       "            <td>B</td>\n",
       "            <td>ramen</td>\n",
       "            <td>2</td>\n",
       "        </tr>\n",
       "        <tr>\n",
       "            <td>B</td>\n",
       "            <td>curry</td>\n",
       "            <td>2</td>\n",
       "        </tr>\n",
       "        <tr>\n",
       "            <td>C</td>\n",
       "            <td>ramen</td>\n",
       "            <td>3</td>\n",
       "        </tr>\n",
       "    </tbody>\n",
       "</table>"
      ],
      "text/plain": [
       "[('A', 'ramen', 3),\n",
       " ('B', 'sushi', 2),\n",
       " ('B', 'ramen', 2),\n",
       " ('B', 'curry', 2),\n",
       " ('C', 'ramen', 3)]"
      ]
     },
     "execution_count": 10,
     "metadata": {},
     "output_type": "execute_result"
    }
   ],
   "source": [
    "%%sql \n",
    "\n",
    "with most_purchased as (\n",
    "    select \n",
    "        s.customer_id, \n",
    "        m.product_name, \n",
    "        count(m.product_name) as count, \n",
    "        dense_rank() over (\n",
    "            partition by s.customer_id \n",
    "            order by count(m.product_name) desc\n",
    "        ) as rank\n",
    "    from sales s join menu m on s.product_id = m.product_id \n",
    "    group by s.customer_id, m.product_name\n",
    "    order by s.customer_id, rank\n",
    ") \n",
    "\n",
    "select customer_id, product_name, count\n",
    "from most_purchased \n",
    "where rank = 1"
   ]
  },
  {
   "cell_type": "markdown",
   "id": "f6a54e7d",
   "metadata": {},
   "source": [
    "<a id=\"question-6\"></a>\n",
    "#### 6. Which item was purchased first by the customer after they became a member?\n",
    "\n",
    "Steps: \n",
    "- INNER JOIN `sales` with `members` gets only the orders for customers that have joined the loyalty program, which is what we want for this question. \n",
    "- For each customer, get only the orders that were placed strictly after their `join_date`. \n",
    "- RANK the menu items by `order_date` for each customer after they joined the loyalty program. \n",
    "- Get the menu items that were purchased first after they became a member. \n",
    "\n",
    "Results: \n",
    "- Customer A purchased ramen first after becoming a member. \n",
    "- Customer B purchased sushi first after becoming a member. \n",
    "- Customer C never became a member. "
   ]
  },
  {
   "cell_type": "code",
   "execution_count": 11,
   "id": "9ff0148e",
   "metadata": {},
   "outputs": [
    {
     "name": "stdout",
     "output_type": "stream",
     "text": [
      " * sqlite:////Users/averylee/Desktop/DS/SQL/dannys_diner/dannys_diner.db\n",
      "Done.\n"
     ]
    },
    {
     "data": {
      "text/html": [
       "<table>\n",
       "    <thead>\n",
       "        <tr>\n",
       "            <th>customer_id</th>\n",
       "            <th>product_name</th>\n",
       "        </tr>\n",
       "    </thead>\n",
       "    <tbody>\n",
       "        <tr>\n",
       "            <td>A</td>\n",
       "            <td>ramen</td>\n",
       "        </tr>\n",
       "        <tr>\n",
       "            <td>B</td>\n",
       "            <td>sushi</td>\n",
       "        </tr>\n",
       "    </tbody>\n",
       "</table>"
      ],
      "text/plain": [
       "[('A', 'ramen'), ('B', 'sushi')]"
      ]
     },
     "execution_count": 11,
     "metadata": {},
     "output_type": "execute_result"
    }
   ],
   "source": [
    "%%sql \n",
    "\n",
    "with orders_after_join as (\n",
    "    select \n",
    "        s.customer_id, \n",
    "        s.order_date, \n",
    "        mem.join_date, \n",
    "        m.product_name, \n",
    "        dense_rank() over (\n",
    "            partition by s.customer_id \n",
    "            order by s.order_date\n",
    "        ) as rank\n",
    "    from sales s join members mem on s.customer_id = mem.customer_id join menu m on s.product_id = m.product_id \n",
    "    where s.order_date > mem.join_date\n",
    "    order by s.customer_id, s.order_date, m.product_name\n",
    ")\n",
    "\n",
    "select customer_id, product_name\n",
    "from orders_after_join \n",
    "where rank = 1"
   ]
  },
  {
   "cell_type": "markdown",
   "id": "94bc943c",
   "metadata": {},
   "source": [
    "<a id=\"question-7\"></a>\n",
    "#### 7. Which item was purchased just before the customer became a member?\n",
    "\n",
    "This question is similar to the previous question, with just a few tweaks. \n",
    "\n",
    "Steps: \n",
    "- INNER JOIN `sales` with `members` gets only the orders for customers that have joined the loyalty program, which is what we want for this question. \n",
    "- For each customer, get only the orders that were placed strictly before their `join_date`. \n",
    "- RANK the menu items by `order_date` in descending order for each customer before they joined the loyalty program. This means the first date before they joined the program will be ranked 1. \n",
    "- Get the menu items that were purchased just before they became a member. \n",
    "\n",
    "Results: \n",
    "- Customer A purchased curry and sushi just before becoming a member. \n",
    "- Customer B purchased sushi just before becoming a member. \n",
    "- Customer C never became a member. "
   ]
  },
  {
   "cell_type": "code",
   "execution_count": 12,
   "id": "cb05a628",
   "metadata": {},
   "outputs": [
    {
     "name": "stdout",
     "output_type": "stream",
     "text": [
      " * sqlite:////Users/averylee/Desktop/DS/SQL/dannys_diner/dannys_diner.db\n",
      "Done.\n"
     ]
    },
    {
     "data": {
      "text/html": [
       "<table>\n",
       "    <thead>\n",
       "        <tr>\n",
       "            <th>customer_id</th>\n",
       "            <th>product_name</th>\n",
       "        </tr>\n",
       "    </thead>\n",
       "    <tbody>\n",
       "        <tr>\n",
       "            <td>A</td>\n",
       "            <td>curry</td>\n",
       "        </tr>\n",
       "        <tr>\n",
       "            <td>A</td>\n",
       "            <td>sushi</td>\n",
       "        </tr>\n",
       "        <tr>\n",
       "            <td>B</td>\n",
       "            <td>sushi</td>\n",
       "        </tr>\n",
       "    </tbody>\n",
       "</table>"
      ],
      "text/plain": [
       "[('A', 'curry'), ('A', 'sushi'), ('B', 'sushi')]"
      ]
     },
     "execution_count": 12,
     "metadata": {},
     "output_type": "execute_result"
    }
   ],
   "source": [
    "%%sql \n",
    "\n",
    "with orders_before_join as (\n",
    "    select \n",
    "        s.customer_id, \n",
    "        s.order_date, \n",
    "        mem.join_date, \n",
    "        m.product_name, \n",
    "        dense_rank() over (\n",
    "            partition by s.customer_id \n",
    "            order by s.order_date desc\n",
    "        ) as rank\n",
    "    from sales s join members mem on s.customer_id = mem.customer_id join menu m on s.product_id = m.product_id \n",
    "    where s.order_date < mem.join_date\n",
    "    order by s.customer_id, s.order_date, m.product_name\n",
    ")\n",
    "\n",
    "select customer_id, product_name\n",
    "from orders_before_join \n",
    "where rank = 1"
   ]
  },
  {
   "cell_type": "markdown",
   "id": "362bbea1",
   "metadata": {},
   "source": [
    "<a id=\"question-8\"></a>\n",
    "#### 8. What is the total items and amount spent for each member before they became a member?\n",
    "\n",
    "Steps: \n",
    "- INNER JOIN `sales` with `members` to only get customers who have become members. JOIN with `menu` to get the price of each menu item. \n",
    "- Keep only the orders WHERE it was placed strictly before the customer joined as a member. \n",
    "- GROUP BY each `customer_id` to get the COUNT of purchased items and SUM of the total amount spent. \n",
    "\n",
    "Results: \n",
    "- Customer A purchased a total of 2 items, spending $25 before becoming a member. \n",
    "- Customer B purchased a total of 3 items, spending $40 before becoming a member. "
   ]
  },
  {
   "cell_type": "code",
   "execution_count": 13,
   "id": "dd37c6ab",
   "metadata": {},
   "outputs": [
    {
     "name": "stdout",
     "output_type": "stream",
     "text": [
      " * sqlite:////Users/averylee/Desktop/DS/SQL/dannys_diner/dannys_diner.db\n",
      "Done.\n"
     ]
    },
    {
     "data": {
      "text/html": [
       "<table>\n",
       "    <thead>\n",
       "        <tr>\n",
       "            <th>customer_id</th>\n",
       "            <th>count</th>\n",
       "            <th>total_price</th>\n",
       "        </tr>\n",
       "    </thead>\n",
       "    <tbody>\n",
       "        <tr>\n",
       "            <td>A</td>\n",
       "            <td>2</td>\n",
       "            <td>25</td>\n",
       "        </tr>\n",
       "        <tr>\n",
       "            <td>B</td>\n",
       "            <td>3</td>\n",
       "            <td>40</td>\n",
       "        </tr>\n",
       "    </tbody>\n",
       "</table>"
      ],
      "text/plain": [
       "[('A', 2, 25), ('B', 3, 40)]"
      ]
     },
     "execution_count": 13,
     "metadata": {},
     "output_type": "execute_result"
    }
   ],
   "source": [
    "%%sql \n",
    "\n",
    "select s.customer_id, count(m.product_name) as count, sum(m.price) as total_price\n",
    "from sales s join members mem on s.customer_id = mem.customer_id join menu m on s.product_id = m.product_id\n",
    "where s.order_date < mem.join_date\n",
    "group by s.customer_id\n",
    "order by s.customer_id"
   ]
  },
  {
   "cell_type": "markdown",
   "id": "d6c33bd7",
   "metadata": {},
   "source": [
    "<a id=\"question-9\"></a>\n",
    "#### 9. If each $1 spent equates to 10 points and sushi has a 2x points multiplier - how many points would each customer have?\n",
    "\n",
    "Steps: \n",
    "- JOIN `sales` and `menu` to get the price for each item a customer has purchased. \n",
    "- Use CASE and END to determine the number of points each purchase gets WHEN an order is sushi or not. \n",
    "- SUM the total points received for each customer. \n",
    "\n",
    "Results: \n",
    "- Customer A has a total of 860 points. \n",
    "- Customer B has a total of 940 points. \n",
    "- Customer C has a total of 360 points. "
   ]
  },
  {
   "cell_type": "code",
   "execution_count": 14,
   "id": "23b528a2",
   "metadata": {},
   "outputs": [
    {
     "name": "stdout",
     "output_type": "stream",
     "text": [
      " * sqlite:////Users/averylee/Desktop/DS/SQL/dannys_diner/dannys_diner.db\n",
      "Done.\n"
     ]
    },
    {
     "data": {
      "text/html": [
       "<table>\n",
       "    <thead>\n",
       "        <tr>\n",
       "            <th>customer_id</th>\n",
       "            <th>points</th>\n",
       "        </tr>\n",
       "    </thead>\n",
       "    <tbody>\n",
       "        <tr>\n",
       "            <td>A</td>\n",
       "            <td>860</td>\n",
       "        </tr>\n",
       "        <tr>\n",
       "            <td>B</td>\n",
       "            <td>940</td>\n",
       "        </tr>\n",
       "        <tr>\n",
       "            <td>C</td>\n",
       "            <td>360</td>\n",
       "        </tr>\n",
       "    </tbody>\n",
       "</table>"
      ],
      "text/plain": [
       "[('A', 860), ('B', 940), ('C', 360)]"
      ]
     },
     "execution_count": 14,
     "metadata": {},
     "output_type": "execute_result"
    }
   ],
   "source": [
    "%%sql \n",
    "\n",
    "with customer_order_points as (\n",
    "    select \n",
    "        s.customer_id, \n",
    "        m.product_name, \n",
    "        m.price, \n",
    "        case\n",
    "            when m.product_name = 'sushi' then m.price * 10 * 2\n",
    "            else m.price * 10\n",
    "        end as points \n",
    "    from sales s join menu m on s.product_id = m.product_id\n",
    ")\n",
    "\n",
    "select customer_id, sum(points) as points\n",
    "from customer_order_points \n",
    "group by customer_id\n",
    "order by customer_id "
   ]
  },
  {
   "cell_type": "markdown",
   "id": "44076896",
   "metadata": {},
   "source": [
    "<a id=\"question-10\"></a>\n",
    "#### 10. In the first week after a customer joins the program (including their join date) they earn 2x points on all items, not just sushi - how many points do customer A and B have at the end of January?\n",
    "\n",
    "Steps: \n",
    "- INNER JOIN `sales` with `members` to only get the customers who are members. JOIN again with `menu` to get the price of each item. \n",
    "- The summarized points calculation is as follows: if the order is sushi (at any time) OR the order was placed within the first week of the `join_date` inclusive of the first day, points is x20 the price. Otherwise, it is x10 the price. \n",
    "- SUM all the points for each customer WHERE the `order_date` is before the end of January. \n",
    "\n",
    "Results: \n",
    "- By 2021-01-31, Customer A has 1370 points. \n",
    "- By 2021-01-31, Customer B has 820 points. "
   ]
  },
  {
   "cell_type": "code",
   "execution_count": 15,
   "id": "01a18403",
   "metadata": {},
   "outputs": [
    {
     "name": "stdout",
     "output_type": "stream",
     "text": [
      " * sqlite:////Users/averylee/Desktop/DS/SQL/dannys_diner/dannys_diner.db\n",
      "Done.\n"
     ]
    },
    {
     "data": {
      "text/html": [
       "<table>\n",
       "    <thead>\n",
       "        <tr>\n",
       "            <th>customer_id</th>\n",
       "            <th>points</th>\n",
       "        </tr>\n",
       "    </thead>\n",
       "    <tbody>\n",
       "        <tr>\n",
       "            <td>A</td>\n",
       "            <td>1370</td>\n",
       "        </tr>\n",
       "        <tr>\n",
       "            <td>B</td>\n",
       "            <td>820</td>\n",
       "        </tr>\n",
       "    </tbody>\n",
       "</table>"
      ],
      "text/plain": [
       "[('A', 1370), ('B', 820)]"
      ]
     },
     "execution_count": 15,
     "metadata": {},
     "output_type": "execute_result"
    }
   ],
   "source": [
    "%%sql \n",
    "with points_week_after_join as (\n",
    "    select s.customer_id, s.order_date, mem.join_date, m.product_name, m.price, case \n",
    "    when m.product_name = 'sushi' or (s.order_date >= mem.join_date and s.order_date < date(mem.join_date, '+7 day')) then m.price * 10 * 2 -- first week after becoming member \n",
    "    else m.price * 10\n",
    "    end as points \n",
    "    from sales s join members mem on s.customer_id = mem.customer_id join menu m on s.product_id = m.product_id \n",
    ")\n",
    "\n",
    "select customer_id, sum(points) as points\n",
    "from points_week_after_join\n",
    "where order_date <= '2021-01-31'\n",
    "group by customer_id\n",
    "order by customer_id"
   ]
  },
  {
   "cell_type": "markdown",
   "id": "e1738680",
   "metadata": {},
   "source": [
    "## Bonus Tasks"
   ]
  },
  {
   "cell_type": "markdown",
   "id": "ea7b8eab",
   "metadata": {},
   "source": [
    "<a id=\"bonus-1\"></a>\n",
    "#### 1. Create a table that contains `customer_id`, `order_date`, `product_name`, `price`, and `member` which indicates 'Y' if a customer is a member on that date and 'N' if they are not. \n",
    "\n",
    "Steps: \n",
    "- JOIN `sales` and `menu` to get the `price` for all items ordered. \n",
    "- Determine if a customer is a member at that point in time by SELECTing the `join_date` for that particular customer. "
   ]
  },
  {
   "cell_type": "code",
   "execution_count": 16,
   "id": "d2730fa0",
   "metadata": {},
   "outputs": [
    {
     "name": "stdout",
     "output_type": "stream",
     "text": [
      " * sqlite:////Users/averylee/Desktop/DS/SQL/dannys_diner/dannys_diner.db\n",
      "Done.\n",
      "Done.\n",
      "Done.\n"
     ]
    },
    {
     "data": {
      "text/html": [
       "<table>\n",
       "    <thead>\n",
       "        <tr>\n",
       "            <th>customer_id</th>\n",
       "            <th>order_date</th>\n",
       "            <th>product_name</th>\n",
       "            <th>price</th>\n",
       "            <th>member</th>\n",
       "        </tr>\n",
       "    </thead>\n",
       "    <tbody>\n",
       "        <tr>\n",
       "            <td>A</td>\n",
       "            <td>2021-01-01</td>\n",
       "            <td>sushi</td>\n",
       "            <td>10</td>\n",
       "            <td>N</td>\n",
       "        </tr>\n",
       "        <tr>\n",
       "            <td>A</td>\n",
       "            <td>2021-01-01</td>\n",
       "            <td>curry</td>\n",
       "            <td>15</td>\n",
       "            <td>N</td>\n",
       "        </tr>\n",
       "        <tr>\n",
       "            <td>A</td>\n",
       "            <td>2021-01-07</td>\n",
       "            <td>curry</td>\n",
       "            <td>15</td>\n",
       "            <td>Y</td>\n",
       "        </tr>\n",
       "        <tr>\n",
       "            <td>A</td>\n",
       "            <td>2021-01-10</td>\n",
       "            <td>ramen</td>\n",
       "            <td>12</td>\n",
       "            <td>Y</td>\n",
       "        </tr>\n",
       "        <tr>\n",
       "            <td>A</td>\n",
       "            <td>2021-01-11</td>\n",
       "            <td>ramen</td>\n",
       "            <td>12</td>\n",
       "            <td>Y</td>\n",
       "        </tr>\n",
       "        <tr>\n",
       "            <td>A</td>\n",
       "            <td>2021-01-11</td>\n",
       "            <td>ramen</td>\n",
       "            <td>12</td>\n",
       "            <td>Y</td>\n",
       "        </tr>\n",
       "        <tr>\n",
       "            <td>B</td>\n",
       "            <td>2021-01-01</td>\n",
       "            <td>curry</td>\n",
       "            <td>15</td>\n",
       "            <td>N</td>\n",
       "        </tr>\n",
       "        <tr>\n",
       "            <td>B</td>\n",
       "            <td>2021-01-02</td>\n",
       "            <td>curry</td>\n",
       "            <td>15</td>\n",
       "            <td>N</td>\n",
       "        </tr>\n",
       "        <tr>\n",
       "            <td>B</td>\n",
       "            <td>2021-01-04</td>\n",
       "            <td>sushi</td>\n",
       "            <td>10</td>\n",
       "            <td>N</td>\n",
       "        </tr>\n",
       "        <tr>\n",
       "            <td>B</td>\n",
       "            <td>2021-01-11</td>\n",
       "            <td>sushi</td>\n",
       "            <td>10</td>\n",
       "            <td>Y</td>\n",
       "        </tr>\n",
       "        <tr>\n",
       "            <td>B</td>\n",
       "            <td>2021-01-16</td>\n",
       "            <td>ramen</td>\n",
       "            <td>12</td>\n",
       "            <td>Y</td>\n",
       "        </tr>\n",
       "        <tr>\n",
       "            <td>B</td>\n",
       "            <td>2021-02-01</td>\n",
       "            <td>ramen</td>\n",
       "            <td>12</td>\n",
       "            <td>Y</td>\n",
       "        </tr>\n",
       "        <tr>\n",
       "            <td>C</td>\n",
       "            <td>2021-01-01</td>\n",
       "            <td>ramen</td>\n",
       "            <td>12</td>\n",
       "            <td>N</td>\n",
       "        </tr>\n",
       "        <tr>\n",
       "            <td>C</td>\n",
       "            <td>2021-01-01</td>\n",
       "            <td>ramen</td>\n",
       "            <td>12</td>\n",
       "            <td>N</td>\n",
       "        </tr>\n",
       "        <tr>\n",
       "            <td>C</td>\n",
       "            <td>2021-01-07</td>\n",
       "            <td>ramen</td>\n",
       "            <td>12</td>\n",
       "            <td>N</td>\n",
       "        </tr>\n",
       "    </tbody>\n",
       "</table>"
      ],
      "text/plain": [
       "[('A', '2021-01-01', 'sushi', 10, 'N'),\n",
       " ('A', '2021-01-01', 'curry', 15, 'N'),\n",
       " ('A', '2021-01-07', 'curry', 15, 'Y'),\n",
       " ('A', '2021-01-10', 'ramen', 12, 'Y'),\n",
       " ('A', '2021-01-11', 'ramen', 12, 'Y'),\n",
       " ('A', '2021-01-11', 'ramen', 12, 'Y'),\n",
       " ('B', '2021-01-01', 'curry', 15, 'N'),\n",
       " ('B', '2021-01-02', 'curry', 15, 'N'),\n",
       " ('B', '2021-01-04', 'sushi', 10, 'N'),\n",
       " ('B', '2021-01-11', 'sushi', 10, 'Y'),\n",
       " ('B', '2021-01-16', 'ramen', 12, 'Y'),\n",
       " ('B', '2021-02-01', 'ramen', 12, 'Y'),\n",
       " ('C', '2021-01-01', 'ramen', 12, 'N'),\n",
       " ('C', '2021-01-01', 'ramen', 12, 'N'),\n",
       " ('C', '2021-01-07', 'ramen', 12, 'N')]"
      ]
     },
     "execution_count": 16,
     "metadata": {},
     "output_type": "execute_result"
    }
   ],
   "source": [
    "%%sql \n",
    "\n",
    "drop table if exists sales_with_member_info; \n",
    "\n",
    "create table sales_with_member_info as \n",
    "select \n",
    "    s.customer_id, \n",
    "    s.order_date, \n",
    "    m.product_name, \n",
    "    m.price, \n",
    "    case \n",
    "        when s.order_date >= (select distinct join_date from members mem where mem.customer_id = s.customer_id) then 'Y'\n",
    "        else 'N'\n",
    "    end as member\n",
    "from sales s join menu m on s.product_id = m.product_id; \n",
    "\n",
    "select * \n",
    "from sales_with_member_info"
   ]
  },
  {
   "cell_type": "markdown",
   "id": "20265346",
   "metadata": {},
   "source": [
    "<a id=\"bonus-2\"></a>\n",
    "#### 2. Using the saved table above, also add `ranking` which indicates the order of each item for a customer after they have joined the loyalty program. \n",
    "\n",
    "Steps: \n",
    "- Use the table created in the previous task. \n",
    "- Only RANK for after the customer joined the loyalty program and ORDER BY the `order_date'`"
   ]
  },
  {
   "cell_type": "code",
   "execution_count": 17,
   "id": "543c70ad",
   "metadata": {},
   "outputs": [
    {
     "name": "stdout",
     "output_type": "stream",
     "text": [
      " * sqlite:////Users/averylee/Desktop/DS/SQL/dannys_diner/dannys_diner.db\n",
      "Done.\n",
      "Done.\n",
      "Done.\n"
     ]
    },
    {
     "data": {
      "text/html": [
       "<table>\n",
       "    <thead>\n",
       "        <tr>\n",
       "            <th>customer_id</th>\n",
       "            <th>order_date</th>\n",
       "            <th>product_name</th>\n",
       "            <th>price</th>\n",
       "            <th>member</th>\n",
       "            <th>ranking</th>\n",
       "        </tr>\n",
       "    </thead>\n",
       "    <tbody>\n",
       "        <tr>\n",
       "            <td>A</td>\n",
       "            <td>2021-01-01</td>\n",
       "            <td>sushi</td>\n",
       "            <td>10</td>\n",
       "            <td>N</td>\n",
       "            <td>None</td>\n",
       "        </tr>\n",
       "        <tr>\n",
       "            <td>A</td>\n",
       "            <td>2021-01-01</td>\n",
       "            <td>curry</td>\n",
       "            <td>15</td>\n",
       "            <td>N</td>\n",
       "            <td>None</td>\n",
       "        </tr>\n",
       "        <tr>\n",
       "            <td>A</td>\n",
       "            <td>2021-01-07</td>\n",
       "            <td>curry</td>\n",
       "            <td>15</td>\n",
       "            <td>Y</td>\n",
       "            <td>1</td>\n",
       "        </tr>\n",
       "        <tr>\n",
       "            <td>A</td>\n",
       "            <td>2021-01-10</td>\n",
       "            <td>ramen</td>\n",
       "            <td>12</td>\n",
       "            <td>Y</td>\n",
       "            <td>2</td>\n",
       "        </tr>\n",
       "        <tr>\n",
       "            <td>A</td>\n",
       "            <td>2021-01-11</td>\n",
       "            <td>ramen</td>\n",
       "            <td>12</td>\n",
       "            <td>Y</td>\n",
       "            <td>3</td>\n",
       "        </tr>\n",
       "        <tr>\n",
       "            <td>A</td>\n",
       "            <td>2021-01-11</td>\n",
       "            <td>ramen</td>\n",
       "            <td>12</td>\n",
       "            <td>Y</td>\n",
       "            <td>3</td>\n",
       "        </tr>\n",
       "        <tr>\n",
       "            <td>B</td>\n",
       "            <td>2021-01-01</td>\n",
       "            <td>curry</td>\n",
       "            <td>15</td>\n",
       "            <td>N</td>\n",
       "            <td>None</td>\n",
       "        </tr>\n",
       "        <tr>\n",
       "            <td>B</td>\n",
       "            <td>2021-01-02</td>\n",
       "            <td>curry</td>\n",
       "            <td>15</td>\n",
       "            <td>N</td>\n",
       "            <td>None</td>\n",
       "        </tr>\n",
       "        <tr>\n",
       "            <td>B</td>\n",
       "            <td>2021-01-04</td>\n",
       "            <td>sushi</td>\n",
       "            <td>10</td>\n",
       "            <td>N</td>\n",
       "            <td>None</td>\n",
       "        </tr>\n",
       "        <tr>\n",
       "            <td>B</td>\n",
       "            <td>2021-01-11</td>\n",
       "            <td>sushi</td>\n",
       "            <td>10</td>\n",
       "            <td>Y</td>\n",
       "            <td>1</td>\n",
       "        </tr>\n",
       "        <tr>\n",
       "            <td>B</td>\n",
       "            <td>2021-01-16</td>\n",
       "            <td>ramen</td>\n",
       "            <td>12</td>\n",
       "            <td>Y</td>\n",
       "            <td>2</td>\n",
       "        </tr>\n",
       "        <tr>\n",
       "            <td>B</td>\n",
       "            <td>2021-02-01</td>\n",
       "            <td>ramen</td>\n",
       "            <td>12</td>\n",
       "            <td>Y</td>\n",
       "            <td>3</td>\n",
       "        </tr>\n",
       "        <tr>\n",
       "            <td>C</td>\n",
       "            <td>2021-01-01</td>\n",
       "            <td>ramen</td>\n",
       "            <td>12</td>\n",
       "            <td>N</td>\n",
       "            <td>None</td>\n",
       "        </tr>\n",
       "        <tr>\n",
       "            <td>C</td>\n",
       "            <td>2021-01-01</td>\n",
       "            <td>ramen</td>\n",
       "            <td>12</td>\n",
       "            <td>N</td>\n",
       "            <td>None</td>\n",
       "        </tr>\n",
       "        <tr>\n",
       "            <td>C</td>\n",
       "            <td>2021-01-07</td>\n",
       "            <td>ramen</td>\n",
       "            <td>12</td>\n",
       "            <td>N</td>\n",
       "            <td>None</td>\n",
       "        </tr>\n",
       "    </tbody>\n",
       "</table>"
      ],
      "text/plain": [
       "[('A', '2021-01-01', 'sushi', 10, 'N', None),\n",
       " ('A', '2021-01-01', 'curry', 15, 'N', None),\n",
       " ('A', '2021-01-07', 'curry', 15, 'Y', 1),\n",
       " ('A', '2021-01-10', 'ramen', 12, 'Y', 2),\n",
       " ('A', '2021-01-11', 'ramen', 12, 'Y', 3),\n",
       " ('A', '2021-01-11', 'ramen', 12, 'Y', 3),\n",
       " ('B', '2021-01-01', 'curry', 15, 'N', None),\n",
       " ('B', '2021-01-02', 'curry', 15, 'N', None),\n",
       " ('B', '2021-01-04', 'sushi', 10, 'N', None),\n",
       " ('B', '2021-01-11', 'sushi', 10, 'Y', 1),\n",
       " ('B', '2021-01-16', 'ramen', 12, 'Y', 2),\n",
       " ('B', '2021-02-01', 'ramen', 12, 'Y', 3),\n",
       " ('C', '2021-01-01', 'ramen', 12, 'N', None),\n",
       " ('C', '2021-01-01', 'ramen', 12, 'N', None),\n",
       " ('C', '2021-01-07', 'ramen', 12, 'N', None)]"
      ]
     },
     "execution_count": 17,
     "metadata": {},
     "output_type": "execute_result"
    }
   ],
   "source": [
    "%%sql \n",
    "\n",
    "drop table if exists ranking_info_after_member; \n",
    "\n",
    "create table ranking_info_after_member as \n",
    "select *, case\n",
    "when member = 'N' then NULL\n",
    "else dense_rank() over (partition by customer_id, member order by order_date)\n",
    "end as ranking\n",
    "from sales_with_member_info; \n",
    "\n",
    "select * \n",
    "from ranking_info_after_member"
   ]
  },
  {
   "cell_type": "markdown",
   "id": "e4138ca0",
   "metadata": {},
   "source": [
    "#"
   ]
  },
  {
   "cell_type": "markdown",
   "id": "31c89980",
   "metadata": {},
   "source": []
  }
 ],
 "metadata": {
  "kernelspec": {
   "display_name": "Python 3",
   "language": "python",
   "name": "python3"
  },
  "language_info": {
   "codemirror_mode": {
    "name": "ipython",
    "version": 3
   },
   "file_extension": ".py",
   "mimetype": "text/x-python",
   "name": "python",
   "nbconvert_exporter": "python",
   "pygments_lexer": "ipython3",
   "version": "3.11.9"
  }
 },
 "nbformat": 4,
 "nbformat_minor": 5
}
